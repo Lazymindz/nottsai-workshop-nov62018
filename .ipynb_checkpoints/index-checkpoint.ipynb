{
 "cells": [
  {
   "cell_type": "markdown",
   "metadata": {
    "slideshow": {
     "slide_type": "slide"
    }
   },
   "source": [
    "## AI Discussion Workshop"
   ]
  },
  {
   "cell_type": "markdown",
   "metadata": {
    "slideshow": {
     "slide_type": "slide"
    }
   },
   "source": [
    "## Today's Agenda\n",
    "\n",
    "- No speakers\n",
    "- No AI Talks\n",
    "- No Tool Demos\n",
    "\n",
    "Nothing at all then?\n",
    "\n",
    "- Member Discussion\n",
    "- Draft a Vision\n",
    "- Data Challenge with Nottingham Open Data "
   ]
  },
  {
   "cell_type": "markdown",
   "metadata": {
    "slideshow": {
     "slide_type": "slide"
    }
   },
   "source": [
    "_My Take on 'Why I attend (or would want to attend) this Meetup':_\n",
    "\n",
    "> Following on the foot steps of our previous catch-up (and revising it a bit), I'd like us to work as a collective group (lets also say Active) on one or more AI projects that could maybe benefit our local community\n",
    "\n",
    "\n",
    " \n",
    "**_Whats your's?_**"
   ]
  },
  {
   "cell_type": "markdown",
   "metadata": {
    "slideshow": {
     "slide_type": "subslide"
    }
   },
   "source": [
    "So what are you doing to make this community buzzing again?\n",
    "\n",
    "> Written to (will be reaching out to more) fellow Nottingham members asking them to throw Challenges to us (ones they think are intresting).\n",
    "\n",
    "> Drafting  notes to write to 'The School of AI' and see if we can associate and create a Chapter\n",
    "\n",
    "and the usual\n",
    "> Will continue my hunt to find speakers\n",
    "\n",
    "> Identify Data Science/AI related Job openings in/around Nottingham, and invite the employer to talk about them\n",
    "\n",
    "> Still Thinking"
   ]
  },
  {
   "cell_type": "markdown",
   "metadata": {
    "slideshow": {
     "slide_type": "slide"
    }
   },
   "source": [
    "**Challenge 1 : Data Analysis Challenge.** \n",
    "\n",
    "**\"Are there enough Traffic Cameras in Nottingham to Cover Bus Lane / One-Way Offenders?\"**\n",
    "\n",
    "[![opendatanottingham](https://www.opendatanottingham.org.uk/Images/components/logo-grey-bg.png)](https://www.opendatanottingham.org.uk/catalogue.aspx) \n",
    "\n",
    "Datasets that I found useful:  \n",
    "\n",
    "Bus and Tram Lanes : https://www.opendatanottingham.org.uk/dataset.aspx?id=78  \n",
    "CCTV Cameras: https://www.opendatanottingham.org.uk/dataset.aspx?id=39  \n",
    "One way Streets: https://www.opendatanottingham.org.uk/dataset.aspx?id=150  \n",
    "\n",
    "Are there more datasets?  \n",
    "PCN Data: https://www.opendatanottingham.org.uk/dataset.aspx?id=106  \n",
    "Traffic accidents: https://www.opendatanottingham.org.uk/dataset.aspx?id=84  \n",
    "\n",
    "Analyse the Data, and present your thoughts.  \n",
    "\n",
    "Methods chosen to address the Challenge can be a pointer for our next discussion  "
   ]
  },
  {
   "cell_type": "markdown",
   "metadata": {
    "slideshow": {
     "slide_type": "slide"
    }
   },
   "source": [
    "\n",
    "\n",
    "## Next Steps\n",
    "\n",
    "Another Meetup soon to discuss and share our implementations of the Data Challenge (Before End of November?)\n",
    "TBD\n",
    "\n",
    "Before we close, will see if I can spend time this weekend and create a module that generates Word Cloud out of everyones responses (we can capture them using Slack)"
   ]
  }
 ],
 "metadata": {
  "celltoolbar": "Slideshow",
  "kernelspec": {
   "display_name": "Python 3",
   "language": "python",
   "name": "python3"
  },
  "language_info": {
   "codemirror_mode": {
    "name": "ipython",
    "version": 3
   },
   "file_extension": ".py",
   "mimetype": "text/x-python",
   "name": "python",
   "nbconvert_exporter": "python",
   "pygments_lexer": "ipython3",
   "version": "3.6.5"
  }
 },
 "nbformat": 4,
 "nbformat_minor": 2
}
